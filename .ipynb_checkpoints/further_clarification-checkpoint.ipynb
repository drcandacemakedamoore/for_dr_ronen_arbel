{
 "cells": [
  {
   "cell_type": "markdown",
   "id": "f220a217",
   "metadata": {},
   "source": [
    "# Statistical Test for JPH and I paper"
   ]
  },
  {
   "cell_type": "code",
   "execution_count": 20,
   "id": "53d31779",
   "metadata": {},
   "outputs": [],
   "source": [
    "#basic data libraries\n",
    "import makedalytics as ma\n",
    "import pandas as pd\n",
    "import numpy as np\n",
    "import matplotlib \n",
    "import matplotlib.pyplot as plt\n",
    "from matplotlib import rc\n",
    "from datetime import datetime\n",
    "from datetime import date\n",
    "from pandas.tseries.offsets import DateOffset\n",
    "# math libraries and packages\n",
    "import math as mth\n",
    "import scipy\n",
    "import scipy.special\n",
    "#fancy visualization and other fancy libraries and packages\n",
    "import datetime as dt\n",
    "from IPython.display import Markdown, display\n",
    "from matplotlib import pylab\n",
    "import pylab as p"
   ]
  },
  {
   "cell_type": "code",
   "execution_count": 2,
   "id": "d86bb5ee",
   "metadata": {},
   "outputs": [],
   "source": [
    "#import MOH dataset\n",
    "moh= pd.read_csv('D:/MAXCORlabwork/covid/current_moh_file/covid19-data-israel-30032021.csv')"
   ]
  },
  {
   "cell_type": "code",
   "execution_count": 3,
   "id": "4aaf6c3a",
   "metadata": {},
   "outputs": [],
   "source": [
    "moh =  moh.rename(columns={'מספר חולים קשה': \"number_kashim\", 'מספר חולים מונשמים': \"total_intubated\", 'מספר נפטרים מצטבר':'deaths'})"
   ]
  },
  {
   "cell_type": "code",
   "execution_count": 4,
   "id": "931f2a83",
   "metadata": {},
   "outputs": [],
   "source": [
    "moh =  moh.rename(columns={'תאריך': \"date\"})\n",
    "moh =  moh.rename(columns={'מספר בדיקות מצטבר': \"number_tests\", 'חולים מאושפזים': \"number_admitted\",'מספר חולים מצטבר':\"number_sick\"})\n",
    "\n",
    "moh['total_deaths_n'] = moh['deaths'].str.replace(',', '')\n",
    "moh['total_deaths_n'] = pd.to_numeric(moh['total_deaths_n'])\n",
    "# now we can add a column for daily deaths by subtracting the total deaths from the deaths the day before\n",
    "moh['daily_deaths']= moh['total_deaths_n']-  moh['total_deaths_n'].shift()"
   ]
  },
  {
   "cell_type": "code",
   "execution_count": 5,
   "id": "73589d93",
   "metadata": {},
   "outputs": [],
   "source": [
    "moh ['date_as_date'] = pd.to_datetime(moh.date, format= '%d/%m/%Y %H:%M:%S')\n",
    "moh['total_sick_n']= moh.number_sick.str.replace(',', '')\n",
    "moh['total_sick_n'] = pd.to_numeric(moh['total_sick_n'])\n",
    "moh['case_fatality_rate'] = moh.total_deaths_n/moh.total_sick_n\n",
    "moh['daily_sick'] = moh['total_sick_n'] - moh['total_sick_n'].shift()\n",
    "#monthly_moh = lo.resample('M').sum()"
   ]
  },
  {
   "cell_type": "code",
   "execution_count": 6,
   "id": "3fe57625",
   "metadata": {},
   "outputs": [],
   "source": [
    "sum_deaths_december7_to_d21= moh[moh.date_as_date < '21/12/2020'].daily_deaths.sum() - moh[moh.date_as_date < '07/12/2020'].daily_deaths.sum()\n",
    "sum_deaths_december27_to_j10= moh[moh.date_as_date < '10/01/2021'].daily_deaths.sum() - moh[moh.date_as_date < '27/12/2020'].daily_deaths.sum()"
   ]
  },
  {
   "cell_type": "code",
   "execution_count": 7,
   "id": "baced3de",
   "metadata": {},
   "outputs": [],
   "source": [
    "cases_december7_to_d21 = moh[moh.date_as_date < '21/12/2020'].daily_sick.sum() - moh[moh.date_as_date < '07/12/2020'].daily_sick.sum()\n",
    "cases_december27_to_j10 = moh[moh.date_as_date < '10/01/2021'].daily_sick.sum() - moh[moh.date_as_date < '27/12/2020'].daily_sick.sum()"
   ]
  },
  {
   "cell_type": "code",
   "execution_count": 8,
   "id": "e752b5de",
   "metadata": {},
   "outputs": [
    {
     "data": {
      "text/plain": [
       "0.008141642104765255"
      ]
     },
     "execution_count": 8,
     "metadata": {},
     "output_type": "execute_result"
    }
   ],
   "source": [
    "sum_deaths_december7_to_d21/cases_december7_to_d21"
   ]
  },
  {
   "cell_type": "code",
   "execution_count": 9,
   "id": "7285cc1b",
   "metadata": {},
   "outputs": [
    {
     "data": {
      "text/plain": [
       "0.006817835735149577"
      ]
     },
     "execution_count": 9,
     "metadata": {},
     "output_type": "execute_result"
    }
   ],
   "source": [
    "sum_deaths_december27_to_j10/cases_december27_to_j10"
   ]
  },
  {
   "cell_type": "code",
   "execution_count": 10,
   "id": "819eb5dc",
   "metadata": {},
   "outputs": [],
   "source": [
    "living_cases_december27_to_j10 = cases_december27_to_j10 - sum_deaths_december27_to_j10"
   ]
  },
  {
   "cell_type": "code",
   "execution_count": 11,
   "id": "c421e62b",
   "metadata": {},
   "outputs": [],
   "source": [
    "living_cases_december7_to_d21 = cases_december7_to_d21 - sum_deaths_december7_to_d21"
   ]
  },
  {
   "cell_type": "markdown",
   "id": "47dcb9c4",
   "metadata": {},
   "source": [
    "# From these numbers we can do a Fisher's test with either deaths versus cases in these two time period, or deaths versus cases minus deaths."
   ]
  },
  {
   "cell_type": "code",
   "execution_count": 12,
   "id": "01d92af8",
   "metadata": {},
   "outputs": [
    {
     "data": {
      "text/html": [
       "<div>\n",
       "<style scoped>\n",
       "    .dataframe tbody tr th:only-of-type {\n",
       "        vertical-align: middle;\n",
       "    }\n",
       "\n",
       "    .dataframe tbody tr th {\n",
       "        vertical-align: top;\n",
       "    }\n",
       "\n",
       "    .dataframe thead th {\n",
       "        text-align: right;\n",
       "    }\n",
       "</style>\n",
       "<table border=\"1\" class=\"dataframe\">\n",
       "  <thead>\n",
       "    <tr style=\"text-align: right;\">\n",
       "      <th></th>\n",
       "      <th>Before b117</th>\n",
       "      <th>after b117</th>\n",
       "    </tr>\n",
       "  </thead>\n",
       "  <tbody>\n",
       "    <tr>\n",
       "      <th>deaths</th>\n",
       "      <td>2754.0</td>\n",
       "      <td>2955.0</td>\n",
       "    </tr>\n",
       "    <tr>\n",
       "      <th>cases minus deaths</th>\n",
       "      <td>335507.0</td>\n",
       "      <td>430467.0</td>\n",
       "    </tr>\n",
       "  </tbody>\n",
       "</table>\n",
       "</div>"
      ],
      "text/plain": [
       "                    Before b117  after b117\n",
       "deaths                   2754.0      2955.0\n",
       "cases minus deaths     335507.0    430467.0"
      ]
     },
     "execution_count": 12,
     "metadata": {},
     "output_type": "execute_result"
    }
   ],
   "source": [
    "ar=np.array([[sum_deaths_december7_to_d21, sum_deaths_december27_to_j10],[living_cases_december7_to_d21, living_cases_december27_to_j10]])    \n",
    "df=pd.DataFrame(ar, columns=[\"Before b117\", \"after b117\"])\n",
    "df.index=[\"deaths\", \"cases minus deaths\"] \n",
    "df"
   ]
  },
  {
   "cell_type": "code",
   "execution_count": 13,
   "id": "4b7ffa9b",
   "metadata": {},
   "outputs": [
    {
     "data": {
      "text/html": [
       "<div>\n",
       "<style scoped>\n",
       "    .dataframe tbody tr th:only-of-type {\n",
       "        vertical-align: middle;\n",
       "    }\n",
       "\n",
       "    .dataframe tbody tr th {\n",
       "        vertical-align: top;\n",
       "    }\n",
       "\n",
       "    .dataframe thead th {\n",
       "        text-align: right;\n",
       "    }\n",
       "</style>\n",
       "<table border=\"1\" class=\"dataframe\">\n",
       "  <thead>\n",
       "    <tr style=\"text-align: right;\">\n",
       "      <th></th>\n",
       "      <th>Before b117</th>\n",
       "      <th>after b117</th>\n",
       "      <th>Row_Total</th>\n",
       "    </tr>\n",
       "  </thead>\n",
       "  <tbody>\n",
       "    <tr>\n",
       "      <th>deaths</th>\n",
       "      <td>2754.0</td>\n",
       "      <td>2955.0</td>\n",
       "      <td>5709.0</td>\n",
       "    </tr>\n",
       "    <tr>\n",
       "      <th>cases minus deaths</th>\n",
       "      <td>335507.0</td>\n",
       "      <td>430467.0</td>\n",
       "      <td>765974.0</td>\n",
       "    </tr>\n",
       "    <tr>\n",
       "      <th>Column_Total</th>\n",
       "      <td>338261.0</td>\n",
       "      <td>433422.0</td>\n",
       "      <td>771683.0</td>\n",
       "    </tr>\n",
       "  </tbody>\n",
       "</table>\n",
       "</div>"
      ],
      "text/plain": [
       "                    Before b117  after b117  Row_Total\n",
       "deaths                   2754.0      2955.0     5709.0\n",
       "cases minus deaths     335507.0    430467.0   765974.0\n",
       "Column_Total           338261.0    433422.0   771683.0"
      ]
     },
     "execution_count": 13,
     "metadata": {},
     "output_type": "execute_result"
    }
   ],
   "source": [
    "\n",
    "\n",
    "df2=df.copy()\n",
    "df2.loc['Column_Total']= df2.sum(numeric_only=True, axis=0)\n",
    "df2.loc[:,'Row_Total'] = df2.sum(numeric_only=True, axis=1)\n",
    "df2\n",
    "\n"
   ]
  },
  {
   "cell_type": "code",
   "execution_count": 14,
   "id": "a9299322",
   "metadata": {},
   "outputs": [
    {
     "name": "stdout",
     "output_type": "stream",
     "text": [
      "The Fisher exact test statistic value is < 0.00001. The result is significant at p < .05.\n",
      "Courtesy of online tool at https://www.socscistatistics.com/tests/fisher/default2.aspx\n",
      "But scientists don't trust the internet...I'll do my own calculations. I'll start with an expected values table:\n"
     ]
    }
   ],
   "source": [
    "# based on online Fisher tool:\n",
    "print(\"The Fisher exact test statistic value is < 0.00001. The result is significant at p < .05.\")\n",
    "print(\"Courtesy of online tool at https://www.socscistatistics.com/tests/fisher/default2.aspx\")\n",
    "print(\"But scientists don't trust the internet...I'll do my own calculations. I'll start with an expected values table:\")"
   ]
  },
  {
   "cell_type": "code",
   "execution_count": 15,
   "id": "7afdb0b4",
   "metadata": {},
   "outputs": [
    {
     "data": {
      "text/html": [
       "<div>\n",
       "<style scoped>\n",
       "    .dataframe tbody tr th:only-of-type {\n",
       "        vertical-align: middle;\n",
       "    }\n",
       "\n",
       "    .dataframe tbody tr th {\n",
       "        vertical-align: top;\n",
       "    }\n",
       "\n",
       "    .dataframe thead th {\n",
       "        text-align: right;\n",
       "    }\n",
       "</style>\n",
       "<table border=\"1\" class=\"dataframe\">\n",
       "  <thead>\n",
       "    <tr style=\"text-align: right;\">\n",
       "      <th></th>\n",
       "      <th>Before b117</th>\n",
       "      <th>after b117</th>\n",
       "      <th>Row_Total</th>\n",
       "    </tr>\n",
       "  </thead>\n",
       "  <tbody>\n",
       "    <tr>\n",
       "      <th>deaths</th>\n",
       "      <td>2502.49</td>\n",
       "      <td>3206.51</td>\n",
       "      <td>5709.0</td>\n",
       "    </tr>\n",
       "    <tr>\n",
       "      <th>cases minus deaths</th>\n",
       "      <td>335758.51</td>\n",
       "      <td>430215.49</td>\n",
       "      <td>765974.0</td>\n",
       "    </tr>\n",
       "    <tr>\n",
       "      <th>Column_Total</th>\n",
       "      <td>338261.00</td>\n",
       "      <td>433422.00</td>\n",
       "      <td>771683.0</td>\n",
       "    </tr>\n",
       "  </tbody>\n",
       "</table>\n",
       "</div>"
      ],
      "text/plain": [
       "                    Before b117  after b117  Row_Total\n",
       "deaths                  2502.49     3206.51     5709.0\n",
       "cases minus deaths    335758.51   430215.49   765974.0\n",
       "Column_Total          338261.00   433422.00   771683.0"
      ]
     },
     "execution_count": 15,
     "metadata": {},
     "output_type": "execute_result"
    }
   ],
   "source": [
    "# expected values table\n",
    "n=df2.at[\"Column_Total\", \"Row_Total\"]  # grand total \n",
    "\n",
    "exp=df2.copy()               # create dataframe with expected frequencies\n",
    "for x in exp.index[0:-1]:\n",
    "    for y in exp.columns[0:-1]:\n",
    "        # round expected values to nearest hundredths:\n",
    "        v= (((df2.at[x, \"Row_Total\"]) * (df2.at[\"Column_Total\", y])   )   /n ).round(2) \n",
    "        exp.at[x,y]=float(v)\n",
    "\n",
    "exp"
   ]
  },
  {
   "cell_type": "code",
   "execution_count": 21,
   "id": "7bb5d2ab",
   "metadata": {},
   "outputs": [
    {
     "name": "stderr",
     "output_type": "stream",
     "text": [
      "C:\\Users\\makeda\\AppData\\Local\\Temp/ipykernel_5692/2358108880.py:3: RuntimeWarning: invalid value encountered in double_scalars\n",
      "  v=(scipy.special.binom(int(df2.iloc[0,2]), a) * scipy.special.binom(int(df2.iloc[1,2]), (int(df2.iloc[2,0])-a)) )/scipy.special.binom(n, int(df2.iloc[2,0]))\n"
     ]
    },
    {
     "data": {
      "text/plain": [
       "nan"
      ]
     },
     "execution_count": 21,
     "metadata": {},
     "output_type": "execute_result"
    }
   ],
   "source": [
    "# Someone buy me a new computer please...\n",
    "def p(a): \n",
    "    v=(scipy.special.binom(int(df2.iloc[0,2]), a) * scipy.special.binom(int(df2.iloc[1,2]), (int(df2.iloc[2,0])-a)) )/scipy.special.binom(n, int(df2.iloc[2,0]))\n",
    "    return v\n",
    "\n",
    "p(1) # if we try \"a=1\" we get the following probability .."
   ]
  },
  {
   "cell_type": "code",
   "execution_count": 22,
   "id": "299b3249",
   "metadata": {},
   "outputs": [
    {
     "name": "stderr",
     "output_type": "stream",
     "text": [
      "C:\\Users\\makeda\\AppData\\Local\\Temp/ipykernel_5692/2358108880.py:3: RuntimeWarning: invalid value encountered in double_scalars\n",
      "  v=(scipy.special.binom(int(df2.iloc[0,2]), a) * scipy.special.binom(int(df2.iloc[1,2]), (int(df2.iloc[2,0])-a)) )/scipy.special.binom(n, int(df2.iloc[2,0]))\n"
     ]
    },
    {
     "data": {
      "text/plain": [
       "0.0"
      ]
     },
     "execution_count": 22,
     "metadata": {},
     "output_type": "execute_result"
    }
   ],
   "source": [
    "p_observed=p(7) # In our contingency table, a was equal to 7.\n",
    "\n",
    "p_list=[]\n",
    "for i in range(int(df2.iloc[0,2])  + 1  ): # calculate p(a) for every possible table we can get given the fixed margins...\n",
    "#... this ranges from \"9 choose 0\" to \"9 choose 9\" so we should get 10 possible tables and their respective probabilities..\n",
    "    if p(i)<=p_observed:\n",
    "        p_list.append(p(i))     # append these probabilites to p_list only if <= p_observed\n",
    "        \n",
    "p_val=np.sum(p_list) # the sum of this list corresponds to the p-value \n",
    "p_val"
   ]
  },
  {
   "cell_type": "code",
   "execution_count": 23,
   "id": "f799ac11",
   "metadata": {},
   "outputs": [
    {
     "data": {
      "text/html": [
       "<div>\n",
       "<style scoped>\n",
       "    .dataframe tbody tr th:only-of-type {\n",
       "        vertical-align: middle;\n",
       "    }\n",
       "\n",
       "    .dataframe tbody tr th {\n",
       "        vertical-align: top;\n",
       "    }\n",
       "\n",
       "    .dataframe thead th {\n",
       "        text-align: right;\n",
       "    }\n",
       "</style>\n",
       "<table border=\"1\" class=\"dataframe\">\n",
       "  <thead>\n",
       "    <tr style=\"text-align: right;\">\n",
       "      <th></th>\n",
       "      <th>Responded</th>\n",
       "      <th>No Response</th>\n",
       "      <th>Row_Total</th>\n",
       "    </tr>\n",
       "  </thead>\n",
       "  <tbody>\n",
       "    <tr>\n",
       "      <th>Males</th>\n",
       "      <td>7.0</td>\n",
       "      <td>2.0</td>\n",
       "      <td>9.0</td>\n",
       "    </tr>\n",
       "    <tr>\n",
       "      <th>Females</th>\n",
       "      <td>1.0</td>\n",
       "      <td>12.0</td>\n",
       "      <td>13.0</td>\n",
       "    </tr>\n",
       "    <tr>\n",
       "      <th>Column_Total</th>\n",
       "      <td>8.0</td>\n",
       "      <td>14.0</td>\n",
       "      <td>22.0</td>\n",
       "    </tr>\n",
       "  </tbody>\n",
       "</table>\n",
       "</div>"
      ],
      "text/plain": [
       "              Responded  No Response  Row_Total\n",
       "Males               7.0          2.0        9.0\n",
       "Females             1.0         12.0       13.0\n",
       "Column_Total        8.0         14.0       22.0"
      ]
     },
     "execution_count": 23,
     "metadata": {},
     "output_type": "execute_result"
    }
   ],
   "source": [
    "ar=np.array([[7.0, 2.0],[1.0, 12.0]])    \n",
    "df=pd.DataFrame(ar, columns=[\"Responded\", \"No Response\"])\n",
    "df.index=[\"Males\", \"Females\"] \n",
    "df2=df.copy()\n",
    "df2.loc['Column_Total']= df2.sum(numeric_only=True, axis=0)\n",
    "df2.loc[:,'Row_Total'] = df2.sum(numeric_only=True, axis=1)\n",
    "df2"
   ]
  },
  {
   "cell_type": "code",
   "execution_count": 25,
   "id": "fff6d593",
   "metadata": {},
   "outputs": [
    {
     "data": {
      "text/plain": [
       "1.9389954999320798e-11"
      ]
     },
     "execution_count": 25,
     "metadata": {},
     "output_type": "execute_result"
    }
   ],
   "source": [
    "\n",
    "\n",
    "\n",
    "oddsratio, pvalue = stats.fisher_exact([[sum_deaths_december7_to_d21, sum_deaths_december27_to_j10],[living_cases_december7_to_d21, living_cases_december27_to_j10]])  \n",
    "pvalue\n",
    "\n"
   ]
  },
  {
   "cell_type": "markdown",
   "id": "56877218",
   "metadata": {},
   "source": [
    "# or approximately zero\n",
    "\n",
    "The probability that we would observe this or an even more imbalanced ratio by chance is about 0%, or to be exact 1.9389954999320798e-11 percent. A commonly used significance level is 5%–if we adopt that, we are defintely fine. Looks like the internet did not lie to us, this time. "
   ]
  },
  {
   "cell_type": "code",
   "execution_count": null,
   "id": "71411b6a",
   "metadata": {},
   "outputs": [],
   "source": []
  }
 ],
 "metadata": {
  "kernelspec": {
   "display_name": "Python 3 (ipykernel)",
   "language": "python",
   "name": "python3"
  },
  "language_info": {
   "codemirror_mode": {
    "name": "ipython",
    "version": 3
   },
   "file_extension": ".py",
   "mimetype": "text/x-python",
   "name": "python",
   "nbconvert_exporter": "python",
   "pygments_lexer": "ipython3",
   "version": "3.8.0"
  },
  "toc": {
   "base_numbering": 1,
   "nav_menu": {},
   "number_sections": true,
   "sideBar": true,
   "skip_h1_title": false,
   "title_cell": "Table of Contents",
   "title_sidebar": "Contents",
   "toc_cell": false,
   "toc_position": {},
   "toc_section_display": true,
   "toc_window_display": false
  }
 },
 "nbformat": 4,
 "nbformat_minor": 5
}
