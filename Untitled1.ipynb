{
 "cells": [
  {
   "cell_type": "markdown",
   "id": "fe9936b8",
   "metadata": {},
   "source": [
    "# Statistical Test for JPH and I paper"
   ]
  },
  {
   "cell_type": "code",
   "execution_count": 2,
   "id": "5a5758a6",
   "metadata": {},
   "outputs": [],
   "source": [
    "#basic data libraries\n",
    "import makedalytics as ma\n",
    "import pandas as pd\n",
    "import numpy as np\n",
    "import matplotlib \n",
    "import matplotlib.pyplot as plt\n",
    "from matplotlib import rc\n",
    "from datetime import datetime\n",
    "from datetime import date\n",
    "from pandas.tseries.offsets import DateOffset\n",
    "# math libraries and packages\n",
    "import math as mth\n",
    "#from scipy import stats\n",
    "#fancy visualization and other fancy libraries and packages\n",
    "import datetime as dt\n",
    "from IPython.display import Markdown, display\n",
    "from matplotlib import pylab\n",
    "import pylab as p"
   ]
  },
  {
   "cell_type": "code",
   "execution_count": 4,
   "id": "48f36501",
   "metadata": {},
   "outputs": [],
   "source": [
    "#import MOH dataset\n",
    "moh= pd.read_csv('D:/MAXCORlabwork/covid/current_moh_file/covid19-data-israel-30032021.csv')"
   ]
  },
  {
   "cell_type": "code",
   "execution_count": 5,
   "id": "8edb47a5",
   "metadata": {},
   "outputs": [],
   "source": [
    "moh =  moh.rename(columns={'מספר חולים קשה': \"number_kashim\", 'מספר חולים מונשמים': \"total_intubated\", 'מספר נפטרים מצטבר':'deaths'})"
   ]
  },
  {
   "cell_type": "code",
   "execution_count": 6,
   "id": "e5969bb1",
   "metadata": {},
   "outputs": [],
   "source": [
    "moh =  moh.rename(columns={'תאריך': \"date\"})\n",
    "moh =  moh.rename(columns={'מספר בדיקות מצטבר': \"number_tests\", 'חולים מאושפזים': \"number_admitted\",'מספר חולים מצטבר':\"number_sick\"})\n",
    "\n",
    "moh['total_deaths_n'] = moh['deaths'].str.replace(',', '')\n",
    "moh['total_deaths_n'] = pd.to_numeric(moh['total_deaths_n'])\n",
    "# now we can add a column for daily deaths by subtracting the total deaths from the deaths the day before\n",
    "moh['daily_deaths']= moh['total_deaths_n']-  moh['total_deaths_n'].shift()"
   ]
  },
  {
   "cell_type": "code",
   "execution_count": 12,
   "id": "81766515",
   "metadata": {},
   "outputs": [],
   "source": [
    "moh ['date_as_date'] = pd.to_datetime(moh.date, format= '%d/%m/%Y %H:%M:%S')\n",
    "moh['total_sick_n']= moh.number_sick.str.replace(',', '')\n",
    "moh['total_sick_n'] = pd.to_numeric(moh['total_sick_n'])\n",
    "moh['case_fatality_rate'] = moh.total_deaths_n/moh.total_sick_n\n",
    "moh['daily_sick'] = moh['total_sick_n'] - moh['total_sick_n'].shift()\n",
    "#monthly_moh = lo.resample('M').sum()"
   ]
  },
  {
   "cell_type": "code",
   "execution_count": 13,
   "id": "dd601ab2",
   "metadata": {},
   "outputs": [],
   "source": [
    "sum_deaths_december7_to_d21= moh[moh.date_as_date < '21/12/2020'].daily_deaths.sum() - moh[moh.date_as_date < '07/12/2020'].daily_deaths.sum()\n",
    "sum_deaths_december27_to_j10= moh[moh.date_as_date < '10/01/2021'].daily_deaths.sum() - moh[moh.date_as_date < '27/12/2020'].daily_deaths.sum()"
   ]
  },
  {
   "cell_type": "code",
   "execution_count": 14,
   "id": "98622bad",
   "metadata": {},
   "outputs": [],
   "source": [
    "cases_december7_to_d21 = moh[moh.date_as_date < '21/12/2020'].daily_sick.sum() - moh[moh.date_as_date < '07/12/2020'].daily_sick.sum()\n",
    "cases_december27_to_j10 = moh[moh.date_as_date < '10/01/2021'].daily_sick.sum() - moh[moh.date_as_date < '27/12/2020'].daily_sick.sum()"
   ]
  },
  {
   "cell_type": "code",
   "execution_count": 15,
   "id": "24e193d8",
   "metadata": {},
   "outputs": [
    {
     "data": {
      "text/plain": [
       "0.008141642104765255"
      ]
     },
     "execution_count": 15,
     "metadata": {},
     "output_type": "execute_result"
    }
   ],
   "source": [
    "sum_deaths_december7_to_d21/cases_december7_to_d21"
   ]
  },
  {
   "cell_type": "code",
   "execution_count": 16,
   "id": "ae742c2b",
   "metadata": {},
   "outputs": [
    {
     "data": {
      "text/plain": [
       "0.006817835735149577"
      ]
     },
     "execution_count": 16,
     "metadata": {},
     "output_type": "execute_result"
    }
   ],
   "source": [
    "sum_deaths_december27_to_j10/cases_december27_to_j10"
   ]
  },
  {
   "cell_type": "code",
   "execution_count": 17,
   "id": "cc080c18",
   "metadata": {},
   "outputs": [],
   "source": [
    "living_cases_december27_to_j10 = cases_december27_to_j10 - sum_deaths_december27_to_j10"
   ]
  },
  {
   "cell_type": "code",
   "execution_count": 18,
   "id": "cb7acbbe",
   "metadata": {},
   "outputs": [],
   "source": [
    "living_cases_december7_to_d21 = cases_december7_to_d21 - sum_deaths_december7_to_d21"
   ]
  },
  {
   "cell_type": "markdown",
   "id": "19d38388",
   "metadata": {},
   "source": [
    "# From these numbers we can do a Fisher's test with either deaths versus cases in these two time period, or deaths versus cases minus deaths."
   ]
  }
 ],
 "metadata": {
  "kernelspec": {
   "display_name": "Python 3 (ipykernel)",
   "language": "python",
   "name": "python3"
  },
  "language_info": {
   "codemirror_mode": {
    "name": "ipython",
    "version": 3
   },
   "file_extension": ".py",
   "mimetype": "text/x-python",
   "name": "python",
   "nbconvert_exporter": "python",
   "pygments_lexer": "ipython3",
   "version": "3.8.0"
  },
  "toc": {
   "base_numbering": 1,
   "nav_menu": {},
   "number_sections": true,
   "sideBar": true,
   "skip_h1_title": false,
   "title_cell": "Table of Contents",
   "title_sidebar": "Contents",
   "toc_cell": false,
   "toc_position": {},
   "toc_section_display": true,
   "toc_window_display": false
  }
 },
 "nbformat": 4,
 "nbformat_minor": 5
}
