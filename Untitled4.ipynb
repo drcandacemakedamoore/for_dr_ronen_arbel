{
 "cells": [
  {
   "cell_type": "code",
   "execution_count": 40,
   "id": "55109804",
   "metadata": {},
   "outputs": [],
   "source": [
    "\n",
    "import subprocess\n",
    "import logging\n",
    "import os\n",
    "# imported libraries\n",
    "import cv2\n",
    "import numpy as np\n",
    "import matplotlib.pyplot as plt\n",
    "import pandas as pd\n",
    "\n",
    "from PIL import Image\n",
    "from PIL import Image, ImageOps"
   ]
  },
  {
   "cell_type": "code",
   "execution_count": 9,
   "id": "1d6f5bb5",
   "metadata": {},
   "outputs": [],
   "source": [
    "image1string ='D:/my_academia/new_dicom_output/IM-0001-0075.dcmfaf20448-a0ee-46ff-9d3e-f0280bbefcce.dcm.jpg' \n",
    "image2string ='D:/my_academia/new_dicom_output/IM-0001-0076.dcm2b9a5f98-1f42-4698-be6f-e4edd0653dce.dcm.jpg'\n",
    "image3string= 'D:/my_academia/new_dicom_output/IM-0001-0075.dcm607a5bb9-1ca5-4c85-83ef-8b3d3c6f9de0.dcm.jpg'"
   ]
  },
  {
   "cell_type": "code",
   "execution_count": 10,
   "id": "2389648d",
   "metadata": {},
   "outputs": [],
   "source": [
    "img1 = cv2.imread(image1string)\n",
    "img2 = cv2.imread(image2string)\n",
    "img3 = cv2.imread(image3string)"
   ]
  },
  {
   "cell_type": "code",
   "execution_count": 25,
   "id": "9910cd75",
   "metadata": {},
   "outputs": [],
   "source": [
    "# half the R/L sides\n",
    "def halfimage_vert(individimage):\n",
    "    ht, wt, dp = individimage.shape\n",
    "    half_line =int(ht/2) \n",
    "    half1 = individimage[0:half_line, 0:wt]\n",
    "    half2 = individimage[half_line:, 0:wt]\n",
    "    x=[half1, half2]\n",
    "    return x"
   ]
  },
  {
   "cell_type": "code",
   "execution_count": 32,
   "id": "3624fcf6",
   "metadata": {},
   "outputs": [],
   "source": [
    "# half the N/S sides\n",
    "def halfimage_hori(individimage):\n",
    "    ht, wt, dp = individimage.shape\n",
    "    half_line =int(wt/2) \n",
    "    half1 = individimage[0:, 0:half_line]\n",
    "    half2 = individimage[0:, half_line:wt]\n",
    "    x=[half1, half2]\n",
    "    return x"
   ]
  },
  {
   "cell_type": "code",
   "execution_count": 33,
   "id": "2ec23cef",
   "metadata": {},
   "outputs": [
    {
     "name": "stdout",
     "output_type": "stream",
     "text": [
      "<class 'numpy.ndarray'>\n"
     ]
    }
   ],
   "source": [
    "print(type(img1[0]))"
   ]
  },
  {
   "cell_type": "code",
   "execution_count": 34,
   "id": "f3f7cbe2",
   "metadata": {},
   "outputs": [
    {
     "data": {
      "text/plain": [
       "array([[[0, 0, 0],\n",
       "        [0, 0, 0],\n",
       "        [0, 0, 0],\n",
       "        ...,\n",
       "        [0, 0, 0],\n",
       "        [0, 0, 0],\n",
       "        [0, 0, 0]],\n",
       "\n",
       "       [[0, 0, 0],\n",
       "        [0, 0, 0],\n",
       "        [0, 0, 0],\n",
       "        ...,\n",
       "        [0, 0, 0],\n",
       "        [0, 0, 0],\n",
       "        [0, 0, 0]],\n",
       "\n",
       "       [[0, 0, 0],\n",
       "        [0, 0, 0],\n",
       "        [0, 0, 0],\n",
       "        ...,\n",
       "        [0, 0, 0],\n",
       "        [0, 0, 0],\n",
       "        [0, 0, 0]],\n",
       "\n",
       "       ...,\n",
       "\n",
       "       [[0, 0, 0],\n",
       "        [0, 0, 0],\n",
       "        [0, 0, 0],\n",
       "        ...,\n",
       "        [0, 0, 0],\n",
       "        [0, 0, 0],\n",
       "        [0, 0, 0]],\n",
       "\n",
       "       [[0, 0, 0],\n",
       "        [0, 0, 0],\n",
       "        [0, 0, 0],\n",
       "        ...,\n",
       "        [0, 0, 0],\n",
       "        [0, 0, 0],\n",
       "        [0, 0, 0]],\n",
       "\n",
       "       [[0, 0, 0],\n",
       "        [0, 0, 0],\n",
       "        [0, 0, 0],\n",
       "        ...,\n",
       "        [0, 0, 0],\n",
       "        [0, 0, 0],\n",
       "        [0, 0, 0]]], dtype=uint8)"
      ]
     },
     "execution_count": 34,
     "metadata": {},
     "output_type": "execute_result"
    }
   ],
   "source": [
    "halfimage_vert(img1)[0]"
   ]
  },
  {
   "cell_type": "code",
   "execution_count": 41,
   "id": "ced80f74",
   "metadata": {},
   "outputs": [],
   "source": [
    "# half the R/L sides\n",
    "def compare_resolution_halfimage_vert(individimage):\n",
    "    ht, wt, dp = individimage.shape\n",
    "    half_line =int(ht/2) \n",
    "    half1 = individimage[0:half_line, 0:wt]\n",
    "    half2 = individimage[half_line:, 0:wt]\n",
    "    x=[half1, half2]\n",
    "    #q = os.stat(specific_image).st_size\n",
    "    return abs(os.stat(x[0]).st_size- os.stat(x[1]).st_size)"
   ]
  },
  {
   "cell_type": "code",
   "execution_count": 42,
   "id": "897d5b1e",
   "metadata": {},
   "outputs": [
    {
     "name": "stderr",
     "output_type": "stream",
     "text": [
      "C:\\Users\\makeda\\AppData\\Local\\Temp/ipykernel_23488/2246849385.py:9: DeprecationWarning: stat: path should be string, bytes, os.PathLike or integer, not numpy.ndarray\n",
      "  return abs(os.stat(x[0]).st_size- os.stat(x[1]).st_size)\n"
     ]
    },
    {
     "ename": "ValueError",
     "evalue": "stat: embedded null character in path",
     "output_type": "error",
     "traceback": [
      "\u001b[1;31m---------------------------------------------------------------------------\u001b[0m",
      "\u001b[1;31mValueError\u001b[0m                                Traceback (most recent call last)",
      "\u001b[1;32m~\\AppData\\Local\\Temp/ipykernel_23488/3837198732.py\u001b[0m in \u001b[0;36m<module>\u001b[1;34m\u001b[0m\n\u001b[1;32m----> 1\u001b[1;33m \u001b[0mcompare_resolution_halfimage_vert\u001b[0m\u001b[1;33m(\u001b[0m\u001b[0mimg1\u001b[0m\u001b[1;33m)\u001b[0m\u001b[1;33m\u001b[0m\u001b[1;33m\u001b[0m\u001b[0m\n\u001b[0m",
      "\u001b[1;32m~\\AppData\\Local\\Temp/ipykernel_23488/2246849385.py\u001b[0m in \u001b[0;36mcompare_resolution_halfimage_vert\u001b[1;34m(individimage)\u001b[0m\n\u001b[0;32m      7\u001b[0m     \u001b[0mx\u001b[0m\u001b[1;33m=\u001b[0m\u001b[1;33m[\u001b[0m\u001b[0mhalf1\u001b[0m\u001b[1;33m,\u001b[0m \u001b[0mhalf2\u001b[0m\u001b[1;33m]\u001b[0m\u001b[1;33m\u001b[0m\u001b[1;33m\u001b[0m\u001b[0m\n\u001b[0;32m      8\u001b[0m     \u001b[1;31m#q = os.stat(specific_image).st_size\u001b[0m\u001b[1;33m\u001b[0m\u001b[1;33m\u001b[0m\u001b[1;33m\u001b[0m\u001b[0m\n\u001b[1;32m----> 9\u001b[1;33m     \u001b[1;32mreturn\u001b[0m \u001b[0mabs\u001b[0m\u001b[1;33m(\u001b[0m\u001b[0mos\u001b[0m\u001b[1;33m.\u001b[0m\u001b[0mstat\u001b[0m\u001b[1;33m(\u001b[0m\u001b[0mx\u001b[0m\u001b[1;33m[\u001b[0m\u001b[1;36m0\u001b[0m\u001b[1;33m]\u001b[0m\u001b[1;33m)\u001b[0m\u001b[1;33m.\u001b[0m\u001b[0mst_size\u001b[0m\u001b[1;33m-\u001b[0m \u001b[0mos\u001b[0m\u001b[1;33m.\u001b[0m\u001b[0mstat\u001b[0m\u001b[1;33m(\u001b[0m\u001b[0mx\u001b[0m\u001b[1;33m[\u001b[0m\u001b[1;36m1\u001b[0m\u001b[1;33m]\u001b[0m\u001b[1;33m)\u001b[0m\u001b[1;33m.\u001b[0m\u001b[0mst_size\u001b[0m\u001b[1;33m)\u001b[0m\u001b[1;33m\u001b[0m\u001b[1;33m\u001b[0m\u001b[0m\n\u001b[0m",
      "\u001b[1;31mValueError\u001b[0m: stat: embedded null character in path"
     ]
    }
   ],
   "source": [
    "compare_resolution_halfimage_vert(img1)"
   ]
  },
  {
   "cell_type": "code",
   "execution_count": 45,
   "id": "4cf0b8eb",
   "metadata": {},
   "outputs": [],
   "source": [
    "q = os.stat(image1string).st_size"
   ]
  },
  {
   "cell_type": "code",
   "execution_count": 46,
   "id": "e8599beb",
   "metadata": {},
   "outputs": [
    {
     "data": {
      "text/plain": [
       "79371"
      ]
     },
     "execution_count": 46,
     "metadata": {},
     "output_type": "execute_result"
    }
   ],
   "source": [
    "q"
   ]
  },
  {
   "cell_type": "code",
   "execution_count": null,
   "id": "7fe71bd3",
   "metadata": {},
   "outputs": [],
   "source": []
  }
 ],
 "metadata": {
  "kernelspec": {
   "display_name": "Python 3 (ipykernel)",
   "language": "python",
   "name": "python3"
  },
  "language_info": {
   "codemirror_mode": {
    "name": "ipython",
    "version": 3
   },
   "file_extension": ".py",
   "mimetype": "text/x-python",
   "name": "python",
   "nbconvert_exporter": "python",
   "pygments_lexer": "ipython3",
   "version": "3.8.0"
  },
  "toc": {
   "base_numbering": 1,
   "nav_menu": {},
   "number_sections": true,
   "sideBar": true,
   "skip_h1_title": false,
   "title_cell": "Table of Contents",
   "title_sidebar": "Contents",
   "toc_cell": false,
   "toc_position": {},
   "toc_section_display": true,
   "toc_window_display": false
  }
 },
 "nbformat": 4,
 "nbformat_minor": 5
}
