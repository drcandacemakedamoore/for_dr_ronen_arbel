{
 "cells": [
  {
   "cell_type": "markdown",
   "metadata": {},
   "source": [
    "# Cost needed to treat as a repeatable executable notebook: proof of concept"
   ]
  },
  {
   "cell_type": "markdown",
   "metadata": {},
   "source": [
    "The goals of this specific project include rudimentary analysis of a dataset of potential costs. The notebook is not meant as a final version, rather a proof of concept. \n",
    "\n",
    "Contents:\n",
    "\n",
    "- <a href='#the_destination0'>Step 0: Install and import libraries</a>\n",
    "- <a href='#the_destination1'>Step 1: Show environment for reproducbility</a>\n",
    "- <a href='#the_destination2'>Step 2: Calculation example</a>\n",
    "- <a href='#the_destination3'>Step 3: Repeat caculation with user inputs</a>\n",
    "- <a href='#the_destination4'>Step 4: Notes on final code or alternative approaches</a>\n",
    "\n"
   ]
  },
  {
   "cell_type": "markdown",
   "metadata": {},
   "source": [
    "<div class=\"alert alert-danger\">Although I have provided a table of contents, if you do not run every cell in order the first time, you may create errors or hidden states that cause problems.</div>"
   ]
  },
  {
   "cell_type": "markdown",
   "metadata": {},
   "source": [
    "<a id='the_destination0'></a>\n",
    "## Step 0. Install and import libraries "
   ]
  },
  {
   "cell_type": "markdown",
   "metadata": {},
   "source": [
    "<div class=\"alert alert-danger\">Although I have included,  pandas, numpy, seaborn and matplotlib, the notebook in the current state can run without them. I assume that if I expand the notebook fully I will use these libraries. \n",
    "    These libraries allow me to show what watermark package does, so I have left the imports in. If your computer does not have these libraries, do not worry.</div>"
   ]
  },
  {
   "cell_type": "code",
   "execution_count": 1,
   "metadata": {},
   "outputs": [],
   "source": [
    "\n",
    "##fundamental data analytics libraries and packages\n",
    "\n",
    "import pandas as pd\n",
    "import numpy as np\n",
    "import matplotlib \n",
    "import matplotlib.pyplot as plt\n",
    "from matplotlib import rc\n",
    "import seaborn as sns"
   ]
  },
  {
   "cell_type": "code",
   "execution_count": 2,
   "metadata": {},
   "outputs": [],
   "source": [
    "# ## math libraries and packages commented out, in case you want to add more sophisticated stats\n",
    "#import math as mth\n",
    "#from scipy import stats"
   ]
  },
  {
   "cell_type": "code",
   "execution_count": 3,
   "metadata": {},
   "outputs": [],
   "source": [
    "# import watermark package for reproducibility\n",
    "import watermark"
   ]
  },
  {
   "cell_type": "markdown",
   "metadata": {},
   "source": [
    "\n",
    "<a id='the_destination1'></a>\n",
    "## Step 1. Show environment for reproducibility"
   ]
  },
  {
   "cell_type": "markdown",
   "metadata": {},
   "source": [
    "It is well documented that calculations based on code are often not reproducible over time as software packages and environments change due to techncialities from floating point calculations to how random numbers are created depending upon the coding language. Therefore, in order to make this code reproducibile I will document the environment with the watermark package. The first run is commented out, and the second run will be for the user to compare their environment. "
   ]
  },
  {
   "cell_type": "code",
   "execution_count": 21,
   "metadata": {},
   "outputs": [],
   "source": [
    "#%load_ext watermark\n",
    "\n",
    "## python, ipython, packages, and machine characteristics\n",
    "#%watermark -v -m -p pandas,numpy,matplotlib,seaborn,watermark \n",
    "\n",
    "## date\n",
    "#print (\" \")\n",
    "#%watermark -u -n -t -z "
   ]
  },
  {
   "cell_type": "markdown",
   "metadata": {},
   "source": [
    "OK, so we got results on our environment as follows:\n",
    "\n",
    "CPython 3.7.1 \n",
    "\n",
    "IPython 7.2.0\n",
    "\n",
    "pandas 1.1.3\n",
    "\n",
    "numpy 1.15.4\n",
    "\n",
    "matplotlib 3.0.2\n",
    "\n",
    "seaborn 0.9.0\n",
    "\n",
    "watermark 2.0.2\n",
    "\n",
    "compiler   : MSC v.1915 64 bit (AMD64)\n",
    "\n",
    "system     : Windows\n",
    "\n",
    "release    : 10\n",
    "\n",
    "machine    : AMD64\n",
    "\n",
    "processor  : Intel64 Family 6 Model 158 Stepping 10, GenuineIntel\n",
    "\n",
    "CPU cores  : 12\n",
    "\n",
    "interpreter: 64bit\n",
    "\n",
    "\n",
    "last updated: Sun Nov 08 2020 09:07:23 Jerusalem Standard Time"
   ]
  },
  {
   "cell_type": "markdown",
   "metadata": {},
   "source": [
    "<div class=\"alert alert-success\"> <b>Running the cell below will show your environment.</b>  </div>"
   ]
  },
  {
   "cell_type": "code",
   "execution_count": null,
   "metadata": {},
   "outputs": [],
   "source": [
    "%load_ext watermark\n",
    "\n",
    "# python, ipython, packages, and machine characteristics\n",
    "%watermark -v -m -p pandas,numpy,matplotlib,seaborn,watermark  \n",
    "\n",
    "# date\n",
    "print (\" \")\n",
    "%watermark -u -n -t -z "
   ]
  },
  {
   "cell_type": "markdown",
   "metadata": {},
   "source": [
    "<div class=\"alert alert-warning\"> <b>If there is a significant difference in environments, please contact me, as results may not be reproducibe. </b></div>"
   ]
  },
  {
   "cell_type": "markdown",
   "metadata": {},
   "source": [
    "\n",
    "<a id='the_destination2'></a>\n",
    "## Step 2. Calculation example"
   ]
  },
  {
   "cell_type": "markdown",
   "metadata": {},
   "source": [
    "This part uses the numbers supplied to get the number in the paper. In the next part, users can change the cost of drugs. In a final version I would put all the calcualtions for the numbers in a code notebook, but to simplify I will use some that have been calculated. "
   ]
  },
  {
   "cell_type": "code",
   "execution_count": 22,
   "metadata": {},
   "outputs": [
    {
     "name": "stdout",
     "output_type": "stream",
     "text": [
      "There variables for annualized number needed to treat are set here at 190  for empagliflozin, and  141 for semaglutide\n"
     ]
    }
   ],
   "source": [
    "empagliflozin_aNNT= 190\n",
    "semaglutide_aNNT = 141\n",
    "print(\"There variables for annualized number needed to treat are set here at\" ,empagliflozin_aNNT,\" for empagliflozin, and \", semaglutide_aNNT, \"for semaglutide\")\n",
    "\n"
   ]
  },
  {
   "cell_type": "markdown",
   "metadata": {},
   "source": [
    "Below we will assume costs as given in the paper, and assign them into variables, then multiply by ur aNNT. "
   ]
  },
  {
   "cell_type": "code",
   "execution_count": 23,
   "metadata": {},
   "outputs": [
    {
     "name": "stdout",
     "output_type": "stream",
     "text": [
      "Our costs needed to treat are: 868680 and 941880 for Empagliflozin and OralSemaglutide\n"
     ]
    }
   ],
   "source": [
    "cost_empagliflozin= 4572\n",
    "cost_semaglutide= 6680\n",
    "\n",
    "cnnt_empagliflozin=  cost_empagliflozin * empagliflozin_aNNT\n",
    "cnnt_semaglutide= cost_semaglutide* semaglutide_aNNT \n",
    "\n",
    "print(\"Our costs needed to treat are:\",cnnt_empagliflozin, \"and\", cnnt_semaglutide,  \"for Empagliflozin and OralSemaglutide\")"
   ]
  },
  {
   "cell_type": "markdown",
   "metadata": {},
   "source": [
    "OK, this is not exactly formatted in a pretty way, but this is just a proof of concept. "
   ]
  },
  {
   "cell_type": "markdown",
   "metadata": {},
   "source": [
    "\n",
    "<a id='the_destination3'></a>\n",
    "## Step 3. Repeat caculation with user inputs"
   ]
  },
  {
   "cell_type": "markdown",
   "metadata": {},
   "source": [
    "Below the user can input costs and derive a NNT based on costs in his or her country or institution. Please do not add back in the commented code as it has a bug. The idea of this code was to check if the number typed in was a number in a certain range, but the input is a string, so the code needs to be rewritten. I can later add code to make sure the input is a number, not letters, and in a certain range."
   ]
  },
  {
   "cell_type": "code",
   "execution_count": 24,
   "metadata": {},
   "outputs": [
    {
     "name": "stdout",
     "output_type": "stream",
     "text": [
      "You must enter the cost you want to check for empagliflozin, round to nearest integer. Type it in and press enter\n",
      "2345\n"
     ]
    }
   ],
   "source": [
    "#numbers_list= range(0,10000)\n",
    "print(\"You must enter the cost you want to check for empagliflozin, round to nearest integer. Type it in and press enter\") \n",
    "input_cost_empa = input()\n",
    "\n",
    "#if input_cost_empa in numbers_list:\n",
    "   # print('Price exists in possible prices, you can proceed to the next block')\n",
    "#else: print('Your price as typed is not on our range of possible prices. Check the price and type exactly ')  "
   ]
  },
  {
   "cell_type": "code",
   "execution_count": 12,
   "metadata": {},
   "outputs": [
    {
     "name": "stdout",
     "output_type": "stream",
     "text": [
      "You must enter the cost you want to check for semaglutide. Type it in and press enter\n",
      "6680\n"
     ]
    }
   ],
   "source": [
    "#numbers_list= range(0,10000)\n",
    "print(\"You must enter the cost you want to check for semaglutide round to integer. Type it in and press enter\") \n",
    "input_cost_sema = input()\n",
    "\n",
    "#if input_cost_empa in numbers_list:\n",
    "   # print('Country exists in Dataframe, you can proceed to query it in the next block')\n",
    "#else: print('Your country as typed is not on our list. Check the list of countries and type it exactly as listed')"
   ]
  },
  {
   "cell_type": "code",
   "execution_count": 26,
   "metadata": {},
   "outputs": [],
   "source": [
    "# now we turn our strings into ints\n",
    "input_cost_empa= int(input_cost_empa)\n",
    "input_cost_sema= int(input_cost_sema)"
   ]
  },
  {
   "cell_type": "code",
   "execution_count": 27,
   "metadata": {
    "scrolled": false
   },
   "outputs": [
    {
     "name": "stdout",
     "output_type": "stream",
     "text": [
      "Our costs needed to treat based on your input prices are: 445550 and 941880 for Empagliflozin and OralSemaglutide\n"
     ]
    }
   ],
   "source": [
    "\n",
    "input_cost_empagliflozin= input_cost_empa\n",
    "input_cost_semaglutide= input_cost_sema\n",
    "\n",
    "cnnt_empagliflozin=  input_cost_empagliflozin * empagliflozin_aNNT\n",
    "cnnt_semaglutide= input_cost_sema* semaglutide_aNNT \n",
    "\n",
    "print(\"Our costs needed to treat based on your input prices are:\",cnnt_empagliflozin, \"and\", cnnt_semaglutide,  \"for Empagliflozin and OralSemaglutide\")"
   ]
  },
  {
   "cell_type": "markdown",
   "metadata": {},
   "source": [
    "\n",
    "<a id='the_destination4'></a>\n",
    "## Step 4. Further notes on this proof of concept"
   ]
  },
  {
   "cell_type": "markdown",
   "metadata": {},
   "source": [
    "\n",
    "We can make an elegant repeatable code notebook to add as an addendum. I think this would make the paper of much more interest over time. An alternative way to allow users to adjust for the price of drugs locally, would be to make an application, or a visualization even simple tables. But I feel it is much more scientific and reproducible to just add code. Most scientists will be able to use Jupyter, although the alternatives include R markdown, WorkflowR, IHaskell notebooks, or even Emacs. "
   ]
  },
  {
   "cell_type": "markdown",
   "metadata": {},
   "source": [
    "Even this proof of concept by itself can make the paper more usable for people everywhere and over time as prices vary. Please note once the notebook is properly expanded it would also allow new trials to be added to the analysis. For example, if a new trial changes NNT for one drug, this can be updated so the paper is still of interest. I timed myself and making the notebook took me 46 minutes. I believe adding some formating or better alternative ways to do input could add a few more hours. -- Dr. Candace Makeda H. Moore"
   ]
  },
  {
   "cell_type": "code",
   "execution_count": null,
   "metadata": {},
   "outputs": [],
   "source": []
  }
 ],
 "metadata": {
  "kernelspec": {
   "display_name": "Python 3",
   "language": "python",
   "name": "python3"
  },
  "language_info": {
   "codemirror_mode": {
    "name": "ipython",
    "version": 3
   },
   "file_extension": ".py",
   "mimetype": "text/x-python",
   "name": "python",
   "nbconvert_exporter": "python",
   "pygments_lexer": "ipython3",
   "version": "3.7.1"
  }
 },
 "nbformat": 4,
 "nbformat_minor": 2
}
