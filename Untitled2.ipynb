{
 "cells": [
  {
   "cell_type": "markdown",
   "id": "b5de8411",
   "metadata": {},
   "source": [
    "# Don't make a racist machine!: notes on bias and cleanX"
   ]
  },
  {
   "cell_type": "markdown",
   "id": "e68f3c64",
   "metadata": {},
   "source": [
    "cleanX is a code library meant for data cleaning of certain radiological images in preparation for algorithm creation. Some features it has, which may be particularly useful are the ability to seperate data by sensitive category, and check resolution...Let's see an example. I'll make an example out of an augmented dataset which will include race and gender:"
   ]
  },
  {
   "cell_type": "code",
   "execution_count": null,
   "id": "815a5590",
   "metadata": {},
   "outputs": [],
   "source": []
  },
  {
   "cell_type": "code",
   "execution_count": null,
   "id": "e58723f7",
   "metadata": {},
   "outputs": [],
   "source": []
  },
  {
   "cell_type": "code",
   "execution_count": null,
   "id": "a4b68c8c",
   "metadata": {},
   "outputs": [],
   "source": []
  }
 ],
 "metadata": {
  "kernelspec": {
   "display_name": "Python 3 (ipykernel)",
   "language": "python",
   "name": "python3"
  },
  "language_info": {
   "codemirror_mode": {
    "name": "ipython",
    "version": 3
   },
   "file_extension": ".py",
   "mimetype": "text/x-python",
   "name": "python",
   "nbconvert_exporter": "python",
   "pygments_lexer": "ipython3",
   "version": "3.8.0"
  },
  "toc": {
   "base_numbering": 1,
   "nav_menu": {},
   "number_sections": true,
   "sideBar": true,
   "skip_h1_title": false,
   "title_cell": "Table of Contents",
   "title_sidebar": "Contents",
   "toc_cell": false,
   "toc_position": {},
   "toc_section_display": true,
   "toc_window_display": false
  }
 },
 "nbformat": 4,
 "nbformat_minor": 5
}
